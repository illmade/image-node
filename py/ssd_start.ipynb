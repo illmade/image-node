{
 "cells": [
  {
   "cell_type": "code",
   "execution_count": 82,
   "metadata": {
    "collapsed": true
   },
   "outputs": [],
   "source": [
    "import tensorflow as tf\n",
    "import numpy as np\n",
    "import math"
   ]
  },
  {
   "cell_type": "markdown",
   "metadata": {},
   "source": [
    "SSD - the single shot detector uses a variation on Mulitbox, Faster RCNN style box priors \n",
    "\n",
    "It generates a lot of box priors using feature shapes from conv layers - these conv layers \n",
    "provide a kind of scale pyramid - the stride creating a enlarged receptive field.\n",
    "We concat box priors from the various convs, threshold and apply non-maximal surpression.\n",
    "\n",
    "Lets visualize some of the prior anchors"
   ]
  },
  {
   "cell_type": "code",
   "execution_count": 83,
   "metadata": {
    "collapsed": true
   },
   "outputs": [],
   "source": [
    "feat_shapes=[(38, 38), (19, 19), (10, 10), (5, 5), (3, 3), (1, 1)]\n",
    "\n",
    "anchor_size_bounds=[0.15, 0.90]\n",
    "\n",
    "anchor_sizes=[(21., 45.),\n",
    "              (45., 99.),\n",
    "              (99., 153.),\n",
    "              (153., 207.),\n",
    "              (207., 261.),\n",
    "              (261., 315.)]\n",
    "\n",
    "anchor_ratios=[[2, .5],\n",
    "               [2, .5, 3, 1./3],\n",
    "               [2, .5, 3, 1./3],\n",
    "               [2, .5, 3, 1./3],\n",
    "               [2, .5],\n",
    "               [2, .5]]\n",
    "\n",
    "anchor_steps=[8, 16, 32, 64, 100, 300]\n",
    "\n",
    "anchor_offset=0.5\n",
    "\n",
    "normalizations=[20, -1, -1, -1, -1, -1]\n",
    "\n",
    "prior_scaling=[0.1, 0.1, 0.2, 0.2]"
   ]
  },
  {
   "cell_type": "code",
   "execution_count": 84,
   "metadata": {
    "collapsed": true
   },
   "outputs": [],
   "source": [
    "def box_anchors(img_shape,\n",
    "                         feat_shape,\n",
    "                         sizes,\n",
    "                         ratios,\n",
    "                         offset=0.5,\n",
    "                         dtype=np.float32):\n",
    "    \"\"\"\n",
    "    The box creation is pretty basic - just tile a load of boxes over the image\n",
    "    \"\"\"\n",
    "    \n",
    "    print(img_shape, feat_shape, sizes, ratios, step)\n",
    "    # Compute the position grid: simple way.\n",
    "    y, x = np.mgrid[0:feat_shape[0], 0:feat_shape[1]]\n",
    "    y = (y.astype(dtype) + offset) / feat_shape[0]\n",
    "    x = (x.astype(dtype) + offset) / feat_shape[1]\n",
    "    \n",
    "    # Expand dims\n",
    "    y = np.expand_dims(y, axis=-1)\n",
    "    x = np.expand_dims(x, axis=-1)\n",
    "\n",
    "    # Compute relative height and width.\n",
    "    # Tries to follow the original implementation of SSD for the order.\n",
    "    num_anchors = len(sizes) + len(ratios)\n",
    "    h = np.zeros((num_anchors, ), dtype=dtype)\n",
    "    w = np.zeros((num_anchors, ), dtype=dtype)\n",
    "    \n",
    "    # Add first anchor boxes with ratio=1.\n",
    "    h[0] = sizes[0] / img_shape[0]\n",
    "    w[0] = sizes[0] / img_shape[1]\n",
    "    \n",
    "    h[1] = math.sqrt(sizes[0] * sizes[1]) / img_shape[0]\n",
    "    w[1] = math.sqrt(sizes[0] * sizes[1]) / img_shape[1]\n",
    "    \n",
    "    di = 2\n",
    "        \n",
    "    for i, r in enumerate(ratios):\n",
    "        h[i+di] = sizes[0] / img_shape[0] / math.sqrt(r)\n",
    "        w[i+di] = sizes[0] / img_shape[1] * math.sqrt(r)\n",
    "    return y, x, h, w"
   ]
  },
  {
   "cell_type": "markdown",
   "metadata": {},
   "source": [
    "ssd_anchor_one_layer(img_shape,\n",
    "                         feat_shape,\n",
    "                         sizes,\n",
    "                         ratios,\n",
    "                         step,\n",
    "                         offset=0.5,\n",
    "                         dtype=np.float32)"
   ]
  },
  {
   "cell_type": "code",
   "execution_count": 85,
   "metadata": {
    "collapsed": false
   },
   "outputs": [
    {
     "name": "stdout",
     "output_type": "stream",
     "text": [
      "([300, 300], (10, 10), (99.0, 153.0), [2, 0.5, 3, 0.3333333333333333], 32)\n",
      "(10, 10, 1)\n",
      "(10, 10, 1)\n"
     ]
    }
   ],
   "source": [
    "i = 2\n",
    "img_shape = [300, 300]\n",
    "\n",
    "a_y, a_x, a_h, a_w = ssd_anchor_one_layer(img_shape, feat_shapes[i],\n",
    "                             anchor_sizes[i],\n",
    "                             anchor_ratios[i],\n",
    "                             anchor_steps[i])\n",
    "\n",
    "#print(np.transpose(yx))\n",
    "print(a_y.shape)\n",
    "\n",
    "#print(np.transpose(yx))\n",
    "print(a_x.shape) "
   ]
  },
  {
   "cell_type": "code",
   "execution_count": 86,
   "metadata": {
    "collapsed": false
   },
   "outputs": [
    {
     "data": {
      "image/png": "[encoded data removed]",
      "text/plain": [
       "<matplotlib.figure.Figure at 0x7f109985a890>"
      ]
     },
     "metadata": {},
     "output_type": "display_data"
    },
    {
     "name": "stdout",
     "output_type": "stream",
     "text": [
      "100\n"
     ]
    }
   ],
   "source": [
    "import matplotlib.pyplot as plt\n",
    "import matplotlib.patches as patches\n",
    "import matplotlib.image as mpimg\n",
    "\n",
    "fig, ax = plt.subplots(1)\n",
    "\n",
    "width = 300\n",
    "height = 300\n",
    "\n",
    "boxes = 0\n",
    "\n",
    "for x in range(0, feat_shapes[i][0]):\n",
    "    for y in range(0, feat_shapes[i][1]):\n",
    "        \n",
    "        for w_i in range(0, 1):\n",
    "            for h_i in range(0, 1):\n",
    "        \n",
    "                w = a_w[w_i]\n",
    "                h = a_h[h_i]\n",
    "\n",
    "                x_pos = a_x[x,y][0] - (w/2)\n",
    "                y_pos = a_y[x,y][0] - (h/2)\n",
    "\n",
    "                rect = patches.Rectangle((x_pos, y_pos),w,h,linewidth=3,edgecolor='r',facecolor='none')\n",
    "\n",
    "                ax.add_patch(rect)\n",
    "                \n",
    "                boxes += 1\n",
    "plt.gca().set_aspect('equal', adjustable='box')\n",
    "plt.show()\n",
    "print(boxes)"
   ]
  },
  {
   "cell_type": "markdown",
   "metadata": {},
   "source": [
    "these are the priors at a single scaling (i=2) and just the w 0 width\n",
    "if we replace the range in: for w_i in range(0, 1)\n",
    "with the full range and vary the i scaling we can see <i>a lot<i> of boxes are \n",
    "checked along the way."
   ]
  }
 ],
 "metadata": {
  "kernelspec": {
   "display_name": "Python 2",
   "language": "python",
   "name": "python2"
  },
  "language_info": {
   "codemirror_mode": {
    "name": "ipython",
    "version": 2
   },
   "file_extension": ".py",
   "mimetype": "text/x-python",
   "name": "python",
   "nbconvert_exporter": "python",
   "pygments_lexer": "ipython2",
   "version": "2.7.6"
  }
 },
 "nbformat": 4,
 "nbformat_minor": 2
}
