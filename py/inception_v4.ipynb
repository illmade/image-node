{
 "cells": [
  {
   "cell_type": "markdown",
   "metadata": {},
   "source": [
    "# inception versions\n",
    "\n",
    "This creates an inception v4 pb file - checking the savepoint is valid along the way\n",
    "It can easliy be adapted to other inception versions "
   ]
  },
  {
   "cell_type": "code",
   "execution_count": 1,
   "metadata": {
    "collapsed": false,
    "deletable": true,
    "editable": true
   },
   "outputs": [],
   "source": [
    "import tensorflow as tf\n",
    "import os\n",
    "import inception\n",
    "import inception_utils\n",
    "\n",
    "slim = tf.contrib.slim"
   ]
  },
  {
   "cell_type": "code",
   "execution_count": 2,
   "metadata": {
    "collapsed": false,
    "deletable": true,
    "editable": true
   },
   "outputs": [
    {
     "name": "stdout",
     "output_type": "stream",
     "text": [
      "Tensor(\"input:0\", shape=(?, 299, 299, 3), dtype=float32)\n"
     ]
    }
   ],
   "source": [
    "scope = inception.inception_v4_arg_scope()\n",
    "\n",
    "inputs = tf.placeholder(tf.float32, (None, 299, 299, 3), \"input\")\n",
    "        \n",
    "with slim.arg_scope(scope):\n",
    "    print(inputs)\n",
    "    net, end_points = inception.inception_v4(inputs, is_training=False)\n"
   ]
  },
  {
   "cell_type": "code",
   "execution_count": 3,
   "metadata": {
    "collapsed": false,
    "deletable": true,
    "editable": true
   },
   "outputs": [
    {
     "name": "stdout",
     "output_type": "stream",
     "text": [
      "Model restored.\n"
     ]
    }
   ],
   "source": [
    "saver = tf.train.Saver()\n",
    "\n",
    "# Later, launch the model, use the saver to restore variables from disk, and\n",
    "# do some work with the model.\n",
    "\n",
    "inception_session = tf.Session()\n",
    "inception_session.run(tf.global_variables_initializer())\n",
    "\n",
    "# Restore variables from disk.\n",
    "saver.restore(inception_session, \"checkpoints/inception_v4.ckpt\")\n",
    "print(\"Model restored.\")"
   ]
  },
  {
   "cell_type": "code",
   "execution_count": 4,
   "metadata": {
    "collapsed": false,
    "deletable": true,
    "editable": true
   },
   "outputs": [],
   "source": [
    "image_path = os.path.join('images/', 'canoe.jpg')\n",
    "\n",
    "with tf.variable_scope('image'):\n",
    "    image_data = tf.gfile.FastGFile(image_path, 'rb').read()\n",
    "    #we want to use decode_image here but it's buggy\n",
    "    decoded = tf.image.decode_jpeg(image_data, channels=None)\n",
    "    normed = tf.divide(tf.cast(decoded, tf.float32), 255.0)\n",
    "    batched = tf.expand_dims(normed, 0)\n",
    "    resized_image = tf.image.resize_bilinear(batched, [299, 299])\n",
    "    standard_size = resized_image\n",
    "    graph_norm = standard_size * 255.0\n",
    "    \n",
    "with tf.Session() as sess:\n",
    "    raw_image, file_image, plot_image = sess.run((decoded, graph_norm, standard_size), feed_dict={})\n",
    "\n",
    "#This is the normalization the network expects\n",
    "feed_image = (file_image - 128) / 128"
   ]
  },
  {
   "cell_type": "code",
   "execution_count": 5,
   "metadata": {
    "collapsed": false
   },
   "outputs": [
    {
     "name": "stdout",
     "output_type": "stream",
     "text": [
      "(1, 299, 299, 3)\n",
      "(1, 299, 299, 3)\n"
     ]
    }
   ],
   "source": [
    "print(feed_image.shape)\n",
    "print(file_image.shape)"
   ]
  },
  {
   "cell_type": "markdown",
   "metadata": {},
   "source": [
    "Check we get predictions out"
   ]
  },
  {
   "cell_type": "code",
   "execution_count": 6,
   "metadata": {
    "collapsed": false,
    "deletable": true,
    "editable": true
   },
   "outputs": [
    {
     "name": "stdout",
     "output_type": "stream",
     "text": [
      "[[ 0.03909403 -0.06639419  0.22950156 ..., -0.11397252  0.52707529\n",
      "  -0.16847484]]\n"
     ]
    }
   ],
   "source": [
    "predictions = inception_session.run((net), feed_dict={'input:0': feed_image})\n",
    "\n",
    "print(predictions)"
   ]
  },
  {
   "cell_type": "code",
   "execution_count": 7,
   "metadata": {
    "collapsed": false,
    "deletable": true,
    "editable": true
   },
   "outputs": [
    {
     "name": "stdout",
     "output_type": "stream",
     "text": [
      "wroteIt\n"
     ]
    }
   ],
   "source": [
    "from tensorflow.python.framework import graph_util\n",
    "from tensorflow.python.training import saver as saver_lib\n",
    "from tensorflow.core.protobuf import saver_pb2\n",
    "\n",
    "checkpoint_prefix = os.path.join(\"checkpoints\", \"saved_checkpoint\")\n",
    "checkpoint_state_name = \"checkpoint_state\"\n",
    "\n",
    "input_graph_name = \"inception_v4_prefreeze.pb\"\n",
    "output_graph_name = \"inception_v4.pb\"\n",
    "\n",
    "input_graph_path = os.path.join(\"checkpoints\", input_graph_name)\n",
    "\n",
    "saver = saver_lib.Saver(write_version=saver_pb2.SaverDef.V2)\n",
    "\n",
    "checkpoint_path = saver.save(\n",
    "  inception_session,\n",
    "  checkpoint_prefix,\n",
    "  global_step=0,\n",
    "  latest_filename=checkpoint_state_name)\n",
    "\n",
    "graph_def = inception_session.graph.as_graph_def()\n",
    "\n",
    "from tensorflow.python.lib.io import file_io\n",
    "\n",
    "file_io.atomic_write_string_to_file(input_graph_path, str(graph_def))\n",
    "print(\"wroteIt\")"
   ]
  },
  {
   "cell_type": "code",
   "execution_count": 8,
   "metadata": {
    "collapsed": true,
    "deletable": true,
    "editable": true
   },
   "outputs": [],
   "source": [
    "train_writer = tf.summary.FileWriter('summaries/' + 'graphs/inception',\n",
    "                                      inception_session.graph)"
   ]
  },
  {
   "cell_type": "code",
   "execution_count": 9,
   "metadata": {
    "collapsed": false,
    "deletable": true,
    "editable": true
   },
   "outputs": [
    {
     "name": "stdout",
     "output_type": "stream",
     "text": [
      "INFO:tensorflow:Froze 598 variables.\n",
      "Converted 598 variables to const ops.\n",
      "2613 ops in the final graph.\n"
     ]
    }
   ],
   "source": [
    "from tensorflow.python.tools import freeze_graph\n",
    "\n",
    "input_saver_def_path = \"\"\n",
    "input_binary = False\n",
    "output_node_names = \"InceptionV4/Logits/Predictions\"\n",
    "restore_op_name = \"save/restore_all\"\n",
    "filename_tensor_name = \"save/Const:0\"\n",
    "\n",
    "output_graph_path = os.path.join(\"data\", output_graph_name)\n",
    "clear_devices = False\n",
    "\n",
    "freeze_graph.freeze_graph(input_graph_path, input_saver_def_path,\n",
    "                              input_binary, checkpoint_path, output_node_names,\n",
    "                              restore_op_name, filename_tensor_name,\n",
    "                              output_graph_path, clear_devices, \"\")"
   ]
  }
 ],
 "metadata": {
  "kernelspec": {
   "display_name": "Python 2",
   "language": "python",
   "name": "python2"
  },
  "language_info": {
   "codemirror_mode": {
    "name": "ipython",
    "version": 2
   },
   "file_extension": ".py",
   "mimetype": "text/x-python",
   "name": "python",
   "nbconvert_exporter": "python",
   "pygments_lexer": "ipython2",
   "version": "2.7.6"
  }
 },
 "nbformat": 4,
 "nbformat_minor": 2
}
